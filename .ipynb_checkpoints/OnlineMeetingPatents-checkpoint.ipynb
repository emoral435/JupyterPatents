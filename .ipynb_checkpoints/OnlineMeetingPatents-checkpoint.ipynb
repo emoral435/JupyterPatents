{
 "cells": [
  {
   "cell_type": "markdown",
   "id": "4ab69588",
   "metadata": {},
   "source": [
    "# This will be the Notebook that we use to analyze whether there has been a rise in patents surrounding online meeting technology patents after the start of the Covid Pandemic"
   ]
  },
  {
   "cell_type": "code",
   "execution_count": null,
   "id": "77c917c2",
   "metadata": {},
   "outputs": [],
   "source": [
    "# Here, we are going to load the generic g_patent and g_cpc_current DataFrames"
   ]
  },
  {
   "cell_type": "code",
   "execution_count": null,
   "id": "d2e4176d",
   "metadata": {},
   "outputs": [],
   "source": [
    "# Here, we are going to filter our g_patent and g_cpc_current datasets so that we only get the "
   ]
  }
 ],
 "metadata": {
  "kernelspec": {
   "display_name": "Python 3 (ipykernel)",
   "language": "python",
   "name": "python3"
  },
  "language_info": {
   "codemirror_mode": {
    "name": "ipython",
    "version": 3
   },
   "file_extension": ".py",
   "mimetype": "text/x-python",
   "name": "python",
   "nbconvert_exporter": "python",
   "pygments_lexer": "ipython3",
   "version": "3.10.9"
  }
 },
 "nbformat": 4,
 "nbformat_minor": 5
}
