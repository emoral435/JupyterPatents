{
 "cells": [
  {
   "cell_type": "markdown",
   "id": "67d447a3",
   "metadata": {},
   "source": [
    "# Exploring the Data"
   ]
  },
  {
   "cell_type": "markdown",
   "id": "44f69f03",
   "metadata": {},
   "source": [
    "<p> the main purpose of this file is just for me to test out and see what I can see from rendering the data using dataframes. I will also use this to comment on anything that I manage to see.</p>"
   ]
  },
  {
   "cell_type": "code",
   "execution_count": null,
   "id": "ffb88e02",
   "metadata": {},
   "outputs": [],
   "source": []
  }
 ],
 "metadata": {
  "kernelspec": {
   "display_name": "Python 3 (ipykernel)",
   "language": "python",
   "name": "python3"
  },
  "language_info": {
   "codemirror_mode": {
    "name": "ipython",
    "version": 3
   },
   "file_extension": ".py",
   "mimetype": "text/x-python",
   "name": "python",
   "nbconvert_exporter": "python",
   "pygments_lexer": "ipython3",
   "version": "3.10.9"
  }
 },
 "nbformat": 4,
 "nbformat_minor": 5
}
