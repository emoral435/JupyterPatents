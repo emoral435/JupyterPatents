{
 "cells": [
  {
   "cell_type": "markdown",
   "id": "b27cf6b9",
   "metadata": {},
   "source": [
    "# Exploring the Data"
   ]
  },
  {
   "cell_type": "markdown",
   "id": "87b6a1ee",
   "metadata": {},
   "source": [
    "<p> the main purpose of this file is just for me to test out and see what I can see from rendering the data using dataframes. I will also use this to comment on anything that I manage to see.</p>"
   ]
  },
  {
   "cell_type": "markdown",
   "id": "d337c69f",
   "metadata": {},
   "source": [
    "# Imports"
   ]
  },
  {
   "cell_type": "code",
   "execution_count": 17,
   "id": "12a5943a",
   "metadata": {},
   "outputs": [],
   "source": [
    "# These are our two data analysis libraries\n",
    "import pandas as pd\n",
    "import numpy as np\n",
    "# These are our two visualization tools\n",
    "import seaborn as sns\n",
    "import matplotlib.pyplot as plt\n",
    "\n",
    "sns.set( style = 'white' )\n"
   ]
  },
  {
   "cell_type": "markdown",
   "id": "8c610416",
   "metadata": {},
   "source": [
    "# G Patent DataFrame Loading And Testing\n",
    "This is the data that we have on granted patents\n",
    "\n"
   ]
  },
  {
   "cell_type": "code",
   "execution_count": null,
   "id": "51b9575b",
   "metadata": {},
   "outputs": [],
   "source": [
    "dfpatent = pd.read_csv(\"g_patent.tsv\", delimiter='\\t', dtype={'patent_id': str, \n",
    "                                                        'patent_type': str, \n",
    "                                                        'patent-date': str,\n",
    "                                                        'patent_title': str,\n",
    "                                                        'patent_abstract': str,\n",
    "                                                        'wipo_kind': str,\n",
    "                                                        'num_claims': int,\n",
    "                                                        'withdrawn': int,\n",
    "                                                        'filename': str})"
   ]
  },
  {
   "cell_type": "code",
   "execution_count": null,
   "id": "b012fc57",
   "metadata": {},
   "outputs": [],
   "source": [
    "# dfpatent.head(3)"
   ]
  },
  {
   "cell_type": "code",
   "execution_count": 43,
   "id": "81bbbfc0",
   "metadata": {},
   "outputs": [
    {
     "data": {
      "text/plain": [
       "patent_type\n",
       "TVPP                                      3\n",
       "defensive publication                   509\n",
       "design                               721810\n",
       "plant                                 30571\n",
       "reissue                               20368\n",
       "statutory invention registration       2259\n",
       "utility                             7484622\n",
       "Name: count, dtype: int64"
      ]
     },
     "execution_count": 43,
     "metadata": {},
     "output_type": "execute_result"
    }
   ],
   "source": [
    "dfpatent['count'] = 1\n",
    "\n",
    "typeCounts = dfpatent.groupby(['patent_type']).count()['count']\n",
    "typeCounts"
   ]
  },
  {
   "cell_type": "code",
   "execution_count": 42,
   "id": "f349a37a",
   "metadata": {},
   "outputs": [
    {
     "data": {
      "text/plain": [
       "patent_type\n",
       "TVPP                                       42\n",
       "defensive publication                    3890\n",
       "design                                 721881\n",
       "plant                                   30575\n",
       "reissue                                496931\n",
       "statutory invention registration        23132\n",
       "utility                             116999491\n",
       "Name: num_claims, dtype: int64"
      ]
     },
     "execution_count": 42,
     "metadata": {},
     "output_type": "execute_result"
    }
   ],
   "source": [
    "typeClaims = dfpatent.groupby('patent_type')['num_claims'].sum()\n",
    "typeClaims"
   ]
  },
  {
   "cell_type": "code",
   "execution_count": 58,
   "id": "2b142f04",
   "metadata": {},
   "outputs": [
    {
     "name": "stdout",
     "output_type": "stream",
     "text": [
      "patent_type\n",
      "TVPP                                14.000000\n",
      "defensive publication                7.642436\n",
      "design                               1.000098\n",
      "plant                                1.000131\n",
      "reissue                             24.397634\n",
      "statutory invention registration    10.239929\n",
      "utility                             15.631984\n",
      "dtype: float64\n"
     ]
    }
   ],
   "source": [
    "avgClaims = typeClaims / typeCounts\n",
    "print(avgClaims)"
   ]
  },
  {
   "cell_type": "code",
   "execution_count": 68,
   "id": "695c3a09",
   "metadata": {},
   "outputs": [
    {
     "data": {
      "image/png": "[encoded data removed]",
      "text/plain": [
       "<Figure size 640x480 with 1 Axes>"
      ]
     },
     "metadata": {},
     "output_type": "display_data"
    }
   ],
   "source": [
    "# creating the bar plot\n",
    "plt.bar(avgClaims.index, avgClaims.values, color ='maroon',\n",
    "        width = 0.2)\n",
    " \n",
    "plt.xlabel(\"Patent Type\")\n",
    "plt.ylabel(\"No. of students enrolled\")\n",
    "plt.title(\"Average Number of Claims Per Patent Type\")\n",
    "plt.show()"
   ]
  },
  {
   "cell_type": "markdown",
   "id": "5ac54c3a",
   "metadata": {},
   "source": [
    "# G CPC Current Loading\n",
    "Current CPC classifications of granted patents. "
   ]
  },
  {
   "cell_type": "code",
   "execution_count": 2,
   "id": "8215ac6f",
   "metadata": {},
   "outputs": [
    {
     "data": {
      "text/html": [
       "<div>\n",
       "<style scoped>\n",
       "    .dataframe tbody tr th:only-of-type {\n",
       "        vertical-align: middle;\n",
       "    }\n",
       "\n",
       "    .dataframe tbody tr th {\n",
       "        vertical-align: top;\n",
       "    }\n",
       "\n",
       "    .dataframe thead th {\n",
       "        text-align: right;\n",
       "    }\n",
       "</style>\n",
       "<table border=\"1\" class=\"dataframe\">\n",
       "  <thead>\n",
       "    <tr style=\"text-align: right;\">\n",
       "      <th></th>\n",
       "      <th>patent_id</th>\n",
       "      <th>cpc_sequence</th>\n",
       "      <th>cpc_section</th>\n",
       "      <th>cpc_class</th>\n",
       "      <th>cpc_subclass</th>\n",
       "      <th>cpc_group</th>\n",
       "      <th>cpc_type</th>\n",
       "      <th>cpc_symbol_position</th>\n",
       "    </tr>\n",
       "  </thead>\n",
       "  <tbody>\n",
       "    <tr>\n",
       "      <th>0</th>\n",
       "      <td>4796895</td>\n",
       "      <td>1</td>\n",
       "      <td>F</td>\n",
       "      <td>F16</td>\n",
       "      <td>F16H</td>\n",
       "      <td>F16H61/00</td>\n",
       "      <td>inventional</td>\n",
       "      <td>NaN</td>\n",
       "    </tr>\n",
       "    <tr>\n",
       "      <th>1</th>\n",
       "      <td>10913199</td>\n",
       "      <td>0</td>\n",
       "      <td>B</td>\n",
       "      <td>B29</td>\n",
       "      <td>B29C</td>\n",
       "      <td>B29C55/08</td>\n",
       "      <td>inventional</td>\n",
       "      <td>NaN</td>\n",
       "    </tr>\n",
       "    <tr>\n",
       "      <th>2</th>\n",
       "      <td>5208443</td>\n",
       "      <td>0</td>\n",
       "      <td>B</td>\n",
       "      <td>B29</td>\n",
       "      <td>B29C</td>\n",
       "      <td>B29C65/366</td>\n",
       "      <td>inventional</td>\n",
       "      <td>NaN</td>\n",
       "    </tr>\n",
       "  </tbody>\n",
       "</table>\n",
       "</div>"
      ],
      "text/plain": [
       "   patent_id  cpc_sequence cpc_section cpc_class cpc_subclass   cpc_group  \\\n",
       "0    4796895             1           F       F16         F16H   F16H61/00   \n",
       "1   10913199             0           B       B29         B29C   B29C55/08   \n",
       "2    5208443             0           B       B29         B29C  B29C65/366   \n",
       "\n",
       "      cpc_type cpc_symbol_position  \n",
       "0  inventional                 NaN  \n",
       "1  inventional                 NaN  \n",
       "2  inventional                 NaN  "
      ]
     },
     "execution_count": 2,
     "metadata": {},
     "output_type": "execute_result"
    }
   ],
   "source": [
    "dfcpc = pd.read_table(\"g_cpc_current.tsv\", delimiter=\"\\t\", dtype={\"patent_id\": int,\n",
    "                                                               \"cpc_sequence\": int,\n",
    "                                                               \"cpc_section\": str,\n",
    "                                                               \"cpc_subclass\": str,\n",
    "                                                               \"cpc_group\": str,\n",
    "                                                               \"cpc_type\": str,\n",
    "                                                               \"cpc_symbol_position\": str})\n",
    "dfcpc.head(3)"
   ]
  },
  {
   "cell_type": "code",
   "execution_count": 4,
   "id": "58c063b3",
   "metadata": {},
   "outputs": [
    {
     "data": {
      "text/plain": [
       "cpc_type\n",
       "additional     16721989\n",
       "inventional    31751823\n",
       "Name: count, dtype: int64"
      ]
     },
     "execution_count": 4,
     "metadata": {},
     "output_type": "execute_result"
    }
   ],
   "source": [
    "dfcpc['count'] = 1\n",
    "dfcpc.groupby(['cpc_type']).count()['count']"
   ]
  },
  {
   "cell_type": "code",
   "execution_count": null,
   "id": "bbaca6da",
   "metadata": {},
   "outputs": [],
   "source": []
  }
 ],
 "metadata": {
  "kernelspec": {
   "display_name": "Python 3 (ipykernel)",
   "language": "python",
   "name": "python3"
  },
  "language_info": {
   "codemirror_mode": {
    "name": "ipython",
    "version": 3
   },
   "file_extension": ".py",
   "mimetype": "text/x-python",
   "name": "python",
   "nbconvert_exporter": "python",
   "pygments_lexer": "ipython3",
   "version": "3.10.9"
  }
 },
 "nbformat": 4,
 "nbformat_minor": 5
}
